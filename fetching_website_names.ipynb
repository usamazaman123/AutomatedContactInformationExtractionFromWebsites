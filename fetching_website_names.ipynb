{
 "cells": [
  {
   "cell_type": "code",
   "execution_count": 2,
   "metadata": {},
   "outputs": [
    {
     "name": "stdout",
     "output_type": "stream",
     "text": [
      "<Response [200]>\n"
     ]
    },
    {
     "name": "stderr",
     "output_type": "stream",
     "text": [
      "<ipython-input-2-d122a6be9834>:35: UserWarning: Pandas requires version '1.4.3' or newer of 'xlsxwriter' (version '1.3.7' currently installed).\n",
      "  df.to_excel(filename, index=False)\n"
     ]
    },
    {
     "name": "stdout",
     "output_type": "stream",
     "text": [
      "<Response [200]>\n"
     ]
    }
   ],
   "source": [
    "import requests\n",
    "from bs4 import BeautifulSoup\n",
    "import pandas as pd\n",
    "import time\n",
    "import urllib3\n",
    "\n",
    "# keyword = \"cars\"\n",
    "pages_to_scrape = 2\n",
    "\n",
    "http = urllib3.PoolManager()\n",
    "\n",
    "headers = {\n",
    "    \"User-Agent\": \"Mozilla/5.0 (Windows NT 10.0; Win64; x64) AppleWebKit/537.36 (KHTML, like Gecko) Chrome/111.0.0.0 Safari/537.36\",\n",
    "    \"Accept-Language\" : \"en-US, en;q=0.5\"\n",
    "}\n",
    "\n",
    "def fetch_content(url, headers=headers):\n",
    "    page = requests.get(url, headers=headers)\n",
    "    return BeautifulSoup(page.content, 'html.parser'), page\n",
    "\n",
    "for page_num in range(1, pages_to_scrape+1):\n",
    "    url = f'https://myip.ms/browse/sites/1/url/dentist'\n",
    "    soup, response = fetch_content(url, headers=headers)\n",
    "    print(response)\n",
    "#     print(soup)\n",
    "\n",
    "    table = soup.find('table', {'class': 'tablesorter'})\n",
    "    rows = table.find_all('tr')\n",
    "\n",
    "    data = [[cell.text.strip() for cell in row.find_all('td')] for row in rows if len(row.find_all('td')) == 8]\n",
    "\n",
    "    df = pd.DataFrame(data, columns=['No', 'Website', 'IP Address', 'Hosting Company / IP Owner', 'Web Hosting / Server IP Location', 'Web Hosting City', 'World Site Popular Rating','Diagram'])\n",
    "\n",
    "    filename = f'dentist3_{page_num}.xlsx'\n",
    "    df.to_excel(filename, index=False)\n",
    "\n",
    "    time.sleep(15)\n",
    "\n"
   ]
  },
  {
   "cell_type": "code",
   "execution_count": null,
   "metadata": {},
   "outputs": [],
   "source": [
    "\n",
    "\n"
   ]
  }
 ],
 "metadata": {
  "kernelspec": {
   "display_name": "Python 3",
   "language": "python",
   "name": "python3"
  },
  "language_info": {
   "codemirror_mode": {
    "name": "ipython",
    "version": 3
   },
   "file_extension": ".py",
   "mimetype": "text/x-python",
   "name": "python",
   "nbconvert_exporter": "python",
   "pygments_lexer": "ipython3",
   "version": "3.8.5"
  }
 },
 "nbformat": 4,
 "nbformat_minor": 4
}
